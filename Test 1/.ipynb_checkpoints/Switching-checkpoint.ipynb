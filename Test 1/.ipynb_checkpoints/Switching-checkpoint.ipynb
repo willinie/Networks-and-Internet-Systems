{
 "cells": [
  {
   "cell_type": "markdown",
   "id": "c8b4d6f3",
   "metadata": {},
   "source": [
    "# Switching\n",
    "\n",
    "## Question1\n",
    "\n"
   ]
  },
  {
   "cell_type": "code",
   "execution_count": 2,
   "id": "ddcdcaf9",
   "metadata": {},
   "outputs": [
    {
     "name": "stdout",
     "output_type": "stream",
     "text": [
      "8294400\n"
     ]
    }
   ],
   "source": [
    "N = 2880\n",
    "crossbar = N * N\n",
    "\n",
    "print(crossbar)"
   ]
  },
  {
   "cell_type": "markdown",
   "id": "2fee4332",
   "metadata": {},
   "source": [
    "## Question2\n",
    "### Prime factorization"
   ]
  },
  {
   "cell_type": "code",
   "execution_count": 4,
   "id": "95db346a",
   "metadata": {},
   "outputs": [
    {
     "name": "stdout",
     "output_type": "stream",
     "text": [
      "N = [2, 2, 2, 2, 2, 2, 3, 3, 5]\n"
     ]
    }
   ],
   "source": [
    "import math    \n",
    "\n",
    "\n",
    "def prime_factors(num):  \n",
    "    ans = []\n",
    "    while num % 2 == 0:  \n",
    "        ans.append(2)\n",
    "        num = num / 2  \n",
    "  \n",
    "    for i in range(3, int(math.sqrt(num)) + 1, 2):  \n",
    "  \n",
    "        while num % i == 0:  \n",
    "            ans.append(i)\n",
    "            num = num / i  \n",
    "    if num > 2:  \n",
    "        ans.append(num)\n",
    "    print(\"N = \" + str(ans))\n",
    " \n",
    "  \n",
    "prime_factors(N) \n"
   ]
  },
  {
   "cell_type": "markdown",
   "id": "531b7405",
   "metadata": {},
   "source": [
    "### Calculate crosspoints"
   ]
  },
  {
   "cell_type": "code",
   "execution_count": null,
   "id": "9dab335f",
   "metadata": {},
   "outputs": [],
   "source": [
    "import numpy\n",
    "\n",
    "nlist = [2, 3, 5]\n",
    "mlist = [2, 2, 2, 2, 2, 3]\n",
    "# using numpy.prod() to get the multiplications\n",
    "n = numpy.prod(nlist)\n",
    "m = numpy.prod(mlist)\n",
    "\n",
    "def question2(n, m):\n",
    "    threeStageClos = 2 * m * n * (n * 2 - 1) + m * m * (2 * n - 1)\n",
    "\n",
    "    print(\"N = \" + str(n*m))\n",
    "    print(\"n = \" + str(n))\n",
    "    print(\"m = \" + str(m))\n",
    "    print(\"3 stage Clos crosspoints = \" + str(threeStageClos))\n",
    "    # compare to Q1 crossbar crosspoint\n",
    "    print(\"Compare to crossbar crosspoints: %.1f%%\" % (100 * threeStageClos / crossbar))\n",
    "    return threeStageClos\n",
    "    \n",
    "\n",
    "threeStageClos = question2(n, m)"
   ]
  },
  {
   "cell_type": "markdown",
   "id": "ed538b92",
   "metadata": {},
   "source": [
    "## Question3"
   ]
  },
  {
   "cell_type": "code",
   "execution_count": null,
   "id": "501787ef",
   "metadata": {},
   "outputs": [],
   "source": [
    "opn = math.sqrt(N / 2)\n",
    "opm = math.sqrt(N * 2)\n",
    "print(\"optimal n = \" + str(opn))\n",
    "print(\"optimal m = \" + str(opm))"
   ]
  },
  {
   "cell_type": "code",
   "execution_count": null,
   "id": "dc00c55a",
   "metadata": {},
   "outputs": [],
   "source": [
    "N / 37"
   ]
  },
  {
   "cell_type": "code",
   "execution_count": null,
   "id": "09ef7a05",
   "metadata": {},
   "outputs": [],
   "source": [
    "N / 38"
   ]
  },
  {
   "cell_type": "code",
   "execution_count": null,
   "id": "d6c5cbd3",
   "metadata": {},
   "outputs": [],
   "source": [
    "N / 75"
   ]
  },
  {
   "cell_type": "code",
   "execution_count": null,
   "id": "baae6811",
   "metadata": {},
   "outputs": [],
   "source": [
    "N / 76"
   ]
  },
  {
   "cell_type": "code",
   "execution_count": null,
   "id": "45c152cc",
   "metadata": {},
   "outputs": [],
   "source": [
    "question2(37, 78)"
   ]
  },
  {
   "cell_type": "code",
   "execution_count": null,
   "id": "2d57c719",
   "metadata": {},
   "outputs": [],
   "source": [
    "question2(38, 76)"
   ]
  },
  {
   "cell_type": "code",
   "execution_count": null,
   "id": "0bf275f0",
   "metadata": {},
   "outputs": [],
   "source": [
    "question2(39, 75)"
   ]
  },
  {
   "cell_type": "code",
   "execution_count": null,
   "id": "f7ff6983",
   "metadata": {},
   "outputs": [],
   "source": [
    "(865488 - threeStageClos) / threeStageClos"
   ]
  },
  {
   "cell_type": "markdown",
   "id": "781554d1",
   "metadata": {},
   "source": [
    "## Question4"
   ]
  },
  {
   "cell_type": "code",
   "execution_count": null,
   "id": "c68d50f4",
   "metadata": {},
   "outputs": [],
   "source": [
    "prime_factors(96) "
   ]
  },
  {
   "cell_type": "code",
   "execution_count": null,
   "id": "131c1d98",
   "metadata": {},
   "outputs": [],
   "source": [
    "question2(8,12)"
   ]
  },
  {
   "cell_type": "code",
   "execution_count": null,
   "id": "04ca1301",
   "metadata": {},
   "outputs": [],
   "source": [
    "5040 * 59 + 2 * 30 * 59 * 96"
   ]
  },
  {
   "cell_type": "code",
   "execution_count": null,
   "id": "d16bf403",
   "metadata": {},
   "outputs": [],
   "source": [
    "def question4(n1, n2, m):\n",
    "    ans = 2 * n1 * (2 * n1 - 1) * n2 * m + question2(n2, m) * (2 * n1 - 1)\n",
    "    return ans;\n",
    "\n",
    "\n",
    "print(question4(30, 8, 12))"
   ]
  },
  {
   "cell_type": "markdown",
   "id": "985dd957",
   "metadata": {},
   "source": [
    "## Question5"
   ]
  },
  {
   "cell_type": "code",
   "execution_count": null,
   "id": "6c3a6cce",
   "metadata": {},
   "outputs": [],
   "source": [
    "N = 2880\n",
    "m = 9\n",
    "n = N * (m - 1) / (2 * m ** 3)\n",
    "print(n)"
   ]
  },
  {
   "cell_type": "code",
   "execution_count": null,
   "id": "b2fba30a",
   "metadata": {},
   "outputs": [],
   "source": [
    "n = 16\n",
    "right = n * (m ** 2) * (2 * (n ** 2) + 2 * m - 1) / ((2 * m - 1) * (n - 1))\n",
    "print(right)"
   ]
  },
  {
   "cell_type": "code",
   "execution_count": null,
   "id": "c3f4ad7a",
   "metadata": {},
   "outputs": [],
   "source": [
    "20, 8\n",
    "16, 9"
   ]
  },
  {
   "cell_type": "code",
   "execution_count": null,
   "id": "54ee4eee",
   "metadata": {},
   "outputs": [],
   "source": [
    "2880 / 16 / 9"
   ]
  },
  {
   "cell_type": "code",
   "execution_count": null,
   "id": "53333123",
   "metadata": {},
   "outputs": [],
   "source": [
    "2880 / 20 / 8"
   ]
  },
  {
   "cell_type": "code",
   "execution_count": null,
   "id": "23f12979",
   "metadata": {},
   "outputs": [],
   "source": [
    "question4(16, 9, 20)"
   ]
  },
  {
   "cell_type": "code",
   "execution_count": null,
   "id": "b6dd8afd",
   "metadata": {},
   "outputs": [],
   "source": [
    "question4(20, 8, 18)"
   ]
  },
  {
   "cell_type": "markdown",
   "id": "1298450f",
   "metadata": {},
   "source": [
    "## Question6"
   ]
  },
  {
   "cell_type": "code",
   "execution_count": null,
   "id": "14ef0773",
   "metadata": {},
   "outputs": [],
   "source": [
    "def question6(n1,n2,n3,m):\n",
    "    ans = 2 * n1 * (2 * n1 - 1) * n2 * n3 * m + question4(n2, n3, m) * (2 * n1 - 1)\n",
    "    return ans;\n",
    "\n",
    "\n",
    "print(question6(5, 6, 6, 16))"
   ]
  },
  {
   "cell_type": "markdown",
   "id": "cb451b02",
   "metadata": {},
   "source": [
    "## Question7"
   ]
  },
  {
   "cell_type": "code",
   "execution_count": null,
   "id": "b37d0d43",
   "metadata": {},
   "outputs": [],
   "source": [
    "def question7(N):\n",
    "    return 6*(N/2)**2 + 6*(N/2)\n",
    "\n",
    "\n",
    "question7(N)"
   ]
  },
  {
   "cell_type": "markdown",
   "id": "ada08122",
   "metadata": {},
   "source": [
    "## Question8"
   ]
  },
  {
   "cell_type": "code",
   "execution_count": 17,
   "id": "f388e66d",
   "metadata": {},
   "outputs": [
    {
     "name": "stdout",
     "output_type": "stream",
     "text": [
      "60\n"
     ]
    },
    {
     "data": {
      "text/plain": [
       "449280"
      ]
     },
     "execution_count": 17,
     "metadata": {},
     "output_type": "execute_result"
    }
   ],
   "source": [
    "def question8(N, n):\n",
    "    r = math.ceil(N / n)\n",
    "    print(r)\n",
    "    return N * (2 * n + r)\n",
    "\n",
    "\n",
    "question8(N, 48)"
   ]
  },
  {
   "cell_type": "markdown",
   "id": "70112ccd",
   "metadata": {},
   "source": [
    "## Question9"
   ]
  },
  {
   "cell_type": "code",
   "execution_count": 12,
   "id": "b333d691",
   "metadata": {},
   "outputs": [
    {
     "name": "stdout",
     "output_type": "stream",
     "text": [
      "optimal n = 37.94733192202055\n",
      "optimal m = 75.8946638440411\n"
     ]
    }
   ],
   "source": [
    "opn = math.sqrt(N / 2)\n",
    "opm = math.sqrt(N * 2)\n",
    "print(\"optimal n = \" + str(opn))\n",
    "print(\"optimal m = \" + str(opm))"
   ]
  },
  {
   "cell_type": "code",
   "execution_count": 18,
   "id": "307e4769",
   "metadata": {},
   "outputs": [
    {
     "data": {
      "text/plain": [
       "77.83783783783784"
      ]
     },
     "execution_count": 18,
     "metadata": {},
     "output_type": "execute_result"
    }
   ],
   "source": [
    "N / 37"
   ]
  },
  {
   "cell_type": "code",
   "execution_count": 19,
   "id": "42ccb629",
   "metadata": {},
   "outputs": [
    {
     "data": {
      "text/plain": [
       "75.78947368421052"
      ]
     },
     "execution_count": 19,
     "metadata": {},
     "output_type": "execute_result"
    }
   ],
   "source": [
    "N / 38"
   ]
  },
  {
   "cell_type": "code",
   "execution_count": 20,
   "id": "2e4590c3",
   "metadata": {},
   "outputs": [
    {
     "data": {
      "text/plain": [
       "38.4"
      ]
     },
     "execution_count": 20,
     "metadata": {},
     "output_type": "execute_result"
    }
   ],
   "source": [
    "N / 75"
   ]
  },
  {
   "cell_type": "code",
   "execution_count": 21,
   "id": "e9475ae9",
   "metadata": {},
   "outputs": [
    {
     "data": {
      "text/plain": [
       "37.89473684210526"
      ]
     },
     "execution_count": 21,
     "metadata": {},
     "output_type": "execute_result"
    }
   ],
   "source": [
    "N / 76"
   ]
  },
  {
   "cell_type": "code",
   "execution_count": 22,
   "id": "24fc6864",
   "metadata": {},
   "outputs": [
    {
     "name": "stdout",
     "output_type": "stream",
     "text": [
      "78\n"
     ]
    },
    {
     "data": {
      "text/plain": [
       "437760"
      ]
     },
     "execution_count": 22,
     "metadata": {},
     "output_type": "execute_result"
    }
   ],
   "source": [
    "question8(N, 37)"
   ]
  },
  {
   "cell_type": "code",
   "execution_count": 23,
   "id": "0b38ca91",
   "metadata": {},
   "outputs": [
    {
     "name": "stdout",
     "output_type": "stream",
     "text": [
      "76\n"
     ]
    },
    {
     "data": {
      "text/plain": [
       "437760"
      ]
     },
     "execution_count": 23,
     "metadata": {},
     "output_type": "execute_result"
    }
   ],
   "source": [
    "question8(N, 38)"
   ]
  },
  {
   "cell_type": "code",
   "execution_count": 24,
   "id": "9f1a3bef",
   "metadata": {},
   "outputs": [
    {
     "name": "stdout",
     "output_type": "stream",
     "text": [
      "74\n"
     ]
    },
    {
     "data": {
      "text/plain": [
       "437760"
      ]
     },
     "execution_count": 24,
     "metadata": {},
     "output_type": "execute_result"
    }
   ],
   "source": [
    "question8(N, 39)"
   ]
  },
  {
   "cell_type": "code",
   "execution_count": 25,
   "id": "85de79fc",
   "metadata": {},
   "outputs": [
    {
     "data": {
      "text/plain": [
       "73.84615384615384"
      ]
     },
     "execution_count": 25,
     "metadata": {},
     "output_type": "execute_result"
    }
   ],
   "source": [
    "2880/39"
   ]
  },
  {
   "cell_type": "markdown",
   "id": "b00af7f5",
   "metadata": {},
   "source": [
    "## Question11"
   ]
  },
  {
   "cell_type": "code",
   "execution_count": 28,
   "id": "a1fe9f14",
   "metadata": {},
   "outputs": [
    {
     "data": {
      "text/plain": [
       "11"
      ]
     },
     "execution_count": 28,
     "metadata": {},
     "output_type": "execute_result"
    }
   ],
   "source": [
    "k = math.ceil(math.log2(N) - 1)\n",
    "k"
   ]
  },
  {
   "cell_type": "code",
   "execution_count": 29,
   "id": "b0b00995",
   "metadata": {},
   "outputs": [
    {
     "data": {
      "text/plain": [
       "23"
      ]
     },
     "execution_count": 29,
     "metadata": {},
     "output_type": "execute_result"
    }
   ],
   "source": [
    "2*k+1"
   ]
  },
  {
   "cell_type": "code",
   "execution_count": 30,
   "id": "594d740f",
   "metadata": {},
   "outputs": [
    {
     "data": {
      "text/plain": [
       "188416"
      ]
     },
     "execution_count": 30,
     "metadata": {},
     "output_type": "execute_result"
    }
   ],
   "source": [
    "2*4096*23"
   ]
  },
  {
   "cell_type": "markdown",
   "id": "3a1a668f",
   "metadata": {},
   "source": [
    "## Question12"
   ]
  },
  {
   "cell_type": "code",
   "execution_count": 33,
   "id": "29ef149c",
   "metadata": {},
   "outputs": [
    {
     "data": {
      "text/plain": [
       "8"
      ]
     },
     "execution_count": 33,
     "metadata": {},
     "output_type": "execute_result"
    }
   ],
   "source": [
    "k = math.ceil(math.log(N, 3))\n",
    "k"
   ]
  },
  {
   "cell_type": "code",
   "execution_count": 36,
   "id": "101e7e70",
   "metadata": {},
   "outputs": [
    {
     "data": {
      "text/plain": [
       "6561"
      ]
     },
     "execution_count": 36,
     "metadata": {},
     "output_type": "execute_result"
    }
   ],
   "source": [
    "3 ** 8"
   ]
  },
  {
   "cell_type": "code",
   "execution_count": 37,
   "id": "7a4609de",
   "metadata": {},
   "outputs": [
    {
     "data": {
      "text/plain": [
       "17"
      ]
     },
     "execution_count": 37,
     "metadata": {},
     "output_type": "execute_result"
    }
   ],
   "source": [
    "2*k+1"
   ]
  },
  {
   "cell_type": "code",
   "execution_count": 38,
   "id": "6581ec1e",
   "metadata": {},
   "outputs": [
    {
     "data": {
      "text/plain": [
       "334611"
      ]
     },
     "execution_count": 38,
     "metadata": {},
     "output_type": "execute_result"
    }
   ],
   "source": [
    "3*6561*17"
   ]
  },
  {
   "cell_type": "markdown",
   "id": "f71249e0",
   "metadata": {},
   "source": [
    "## Question13"
   ]
  },
  {
   "cell_type": "code",
   "execution_count": 40,
   "id": "09346543",
   "metadata": {},
   "outputs": [
    {
     "data": {
      "text/plain": [
       "33096.53691742946"
      ]
     },
     "execution_count": 40,
     "metadata": {},
     "output_type": "execute_result"
    }
   ],
   "source": [
    "N * math.log2(N)"
   ]
  }
 ],
 "metadata": {
  "kernelspec": {
   "display_name": "Python 3 (ipykernel)",
   "language": "python",
   "name": "python3"
  },
  "language_info": {
   "codemirror_mode": {
    "name": "ipython",
    "version": 3
   },
   "file_extension": ".py",
   "mimetype": "text/x-python",
   "name": "python",
   "nbconvert_exporter": "python",
   "pygments_lexer": "ipython3",
   "version": "3.9.13"
  }
 },
 "nbformat": 4,
 "nbformat_minor": 5
}
