{
 "cells": [
  {
   "cell_type": "code",
   "execution_count": 1,
   "id": "0ad9f906",
   "metadata": {},
   "outputs": [],
   "source": [
    "import sys\n",
    "import math"
   ]
  },
  {
   "cell_type": "markdown",
   "id": "3983f126",
   "metadata": {},
   "source": [
    "## Crossbar"
   ]
  },
  {
   "cell_type": "code",
   "execution_count": 2,
   "id": "d8eac81c",
   "metadata": {},
   "outputs": [
    {
     "name": "stdout",
     "output_type": "stream",
     "text": [
      "8294400\n"
     ]
    }
   ],
   "source": [
    "def crossbar(N):\n",
    "    print(N*N)\n",
    "    \n",
    "crossbar(2880)"
   ]
  },
  {
   "cell_type": "markdown",
   "id": "446fca2d",
   "metadata": {},
   "source": [
    "## 3 Stage Clos"
   ]
  },
  {
   "cell_type": "code",
   "execution_count": 3,
   "id": "ee2a4d13",
   "metadata": {},
   "outputs": [
    {
     "name": "stdout",
     "output_type": "stream",
     "text": [
      "889200\n"
     ]
    }
   ],
   "source": [
    "def threeClos(n, m):\n",
    "    print( 2 * m * n * (n * 2 - 1) + m * m * (2 * n - 1) )\n",
    "    \n",
    "threeClos(48, 60)"
   ]
  },
  {
   "cell_type": "markdown",
   "id": "db757b5d",
   "metadata": {},
   "source": [
    "## 3 Stage Clos Optimal"
   ]
  },
  {
   "cell_type": "code",
   "execution_count": 4,
   "id": "6f74a58d",
   "metadata": {},
   "outputs": [
    {
     "name": "stdout",
     "output_type": "stream",
     "text": [
      "optimal n = 35.4964786985977\n",
      "optimal m = 70.9929573971954\n"
     ]
    }
   ],
   "source": [
    "def nmOpt(N):\n",
    "    opn = math.sqrt(N / 2)\n",
    "    opm = math.sqrt(N * 2)\n",
    "    print(\"optimal n = \" + str(opn))\n",
    "    print(\"optimal m = \" + str(opm))\n",
    "    \n",
    "nmOpt(2520)"
   ]
  },
  {
   "cell_type": "code",
   "execution_count": 5,
   "id": "44ea1af7",
   "metadata": {},
   "outputs": [
    {
     "name": "stdout",
     "output_type": "stream",
     "text": [
      "82.28571428571429\n",
      "80.0\n",
      "41.142857142857146\n",
      "40.563380281690144\n"
     ]
    }
   ],
   "source": [
    "def findNm(N):\n",
    "    print(N/35)\n",
    "    print(N/36)\n",
    "    print(N/70)\n",
    "    print(N/71)\n",
    "    \n",
    "findNm(2880)"
   ]
  },
  {
   "cell_type": "code",
   "execution_count": 6,
   "id": "b58c39bd",
   "metadata": {},
   "outputs": [
    {
     "name": "stdout",
     "output_type": "stream",
     "text": [
      "705456\n",
      "866400\n",
      "883575\n",
      "866400\n"
     ]
    }
   ],
   "source": [
    "n, m = 35, 72\n",
    "threeClos(n, m)\n",
    "n, m = 38, 76\n",
    "threeClos(n, m)\n",
    "n, m = 39, 75\n",
    "threeClos(n, m)\n",
    "n, m = 38, 76\n",
    "threeClos(n, m)"
   ]
  },
  {
   "cell_type": "markdown",
   "id": "a222aca1",
   "metadata": {},
   "source": [
    "## Moore"
   ]
  },
  {
   "cell_type": "code",
   "execution_count": 7,
   "id": "990907c3",
   "metadata": {},
   "outputs": [
    {
     "name": "stdout",
     "output_type": "stream",
     "text": [
      "12450240.0\n"
     ]
    }
   ],
   "source": [
    "def moore(N):\n",
    "    n = N / 2\n",
    "    print(6*n*n + 6*n)\n",
    "    \n",
    "moore(2880)"
   ]
  },
  {
   "cell_type": "markdown",
   "id": "2a5e249d",
   "metadata": {},
   "source": [
    "## 3 Stage Slepian"
   ]
  },
  {
   "cell_type": "code",
   "execution_count": 8,
   "id": "add38946",
   "metadata": {},
   "outputs": [
    {
     "name": "stdout",
     "output_type": "stream",
     "text": [
      "447525\n"
     ]
    }
   ],
   "source": [
    "def Slepian(n, r):\n",
    "    print( (n*r) * (2*n + r) )\n",
    "    \n",
    "Slepian(39, 75)"
   ]
  },
  {
   "cell_type": "markdown",
   "id": "fe8e8ea1",
   "metadata": {},
   "source": [
    "## 3 Stage Slepian Optimal"
   ]
  },
  {
   "cell_type": "code",
   "execution_count": 9,
   "id": "d31333da",
   "metadata": {},
   "outputs": [
    {
     "name": "stdout",
     "output_type": "stream",
     "text": [
      "optimal n = 37.94733192202055\n",
      "optimal m = 75.8946638440411\n"
     ]
    }
   ],
   "source": [
    "# opt r = opt m\n",
    "nmOpt(2880)"
   ]
  },
  {
   "cell_type": "code",
   "execution_count": 10,
   "id": "03405a2d",
   "metadata": {},
   "outputs": [
    {
     "name": "stdout",
     "output_type": "stream",
     "text": [
      "77.83783783783784\n",
      "75.78947368421052\n",
      "38.4\n",
      "37.89473684210526\n"
     ]
    }
   ],
   "source": [
    "def findNr(N):\n",
    "    print(N/37)\n",
    "    print(N/38)\n",
    "    print(N/75)\n",
    "    print(N/76)\n",
    "    \n",
    "findNr(2880)"
   ]
  },
  {
   "cell_type": "code",
   "execution_count": 11,
   "id": "fc143488",
   "metadata": {},
   "outputs": [
    {
     "name": "stdout",
     "output_type": "stream",
     "text": [
      "438672\n",
      "438976\n",
      "447525\n",
      "438976\n"
     ]
    }
   ],
   "source": [
    "n, r = 37, 78\n",
    "Slepian(n, r)\n",
    "n, r = 38, 76\n",
    "Slepian(n, r)\n",
    "n, r = 39, 75\n",
    "Slepian(n, r)\n",
    "n, r = 38, 76\n",
    "Slepian(n, r)"
   ]
  },
  {
   "cell_type": "markdown",
   "id": "fe4528f2",
   "metadata": {},
   "source": [
    "## Set block recursive Slepian :)"
   ]
  },
  {
   "cell_type": "markdown",
   "id": "26542eb2",
   "metadata": {},
   "source": [
    "## Lower bound"
   ]
  },
  {
   "cell_type": "code",
   "execution_count": 12,
   "id": "0bb19743",
   "metadata": {},
   "outputs": [
    {
     "name": "stdout",
     "output_type": "stream",
     "text": [
      "651208.4706861863\n"
     ]
    }
   ],
   "source": [
    "def lowerBound(N):\n",
    "    print( N * math.log(N, 2) )\n",
    "    \n",
    "lowerBound(42367)"
   ]
  },
  {
   "cell_type": "code",
   "execution_count": null,
   "id": "72e7ce95",
   "metadata": {},
   "outputs": [],
   "source": []
  }
 ],
 "metadata": {
  "kernelspec": {
   "display_name": "Python 3 (ipykernel)",
   "language": "python",
   "name": "python3"
  },
  "language_info": {
   "codemirror_mode": {
    "name": "ipython",
    "version": 3
   },
   "file_extension": ".py",
   "mimetype": "text/x-python",
   "name": "python",
   "nbconvert_exporter": "python",
   "pygments_lexer": "ipython3",
   "version": "3.9.13"
  }
 },
 "nbformat": 4,
 "nbformat_minor": 5
}
